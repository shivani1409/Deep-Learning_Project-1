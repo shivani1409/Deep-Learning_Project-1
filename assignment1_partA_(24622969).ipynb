{
 "cells": [
  {
   "cell_type": "markdown",
   "metadata": {
    "id": "-kcF6GRPRK8Z"
   },
   "source": [
    "# Perceptron from scratch\n",
    "\n",
    "In this assignment, we will be reimplementing a Neural Networks from scratch.\n",
    "\n",
    "In part A, we are going to build a simple Perceptron on a small dataset that contains only 3 features.\n",
    "\n",
    "<img src='https://drive.google.com/uc?id=1aUtXFBMKUumwfZ-2jmR5SIvNYPaD-t2x' width=\"500\" height=\"250\">\n",
    "\n",
    "Some of the code have already been defined for you. You need only to add your code in the sections specified (marked with **TODO**). Some assert statements have been added to verify the expected outputs are correct. If it does throw an error, this means your implementation is behaving as expected.\n",
    "\n",
    "Note: You are only allowed to use Numpy and Pandas packages for the implemention of Perceptron. You can not packages such as Sklearn or Tensorflow."
   ]
  },
  {
   "cell_type": "markdown",
   "metadata": {
    "id": "wUg1PkpnZAya"
   },
   "source": [
    "# 1. Import Required Packages\n",
    "\n",
    "[1.1] We are going to use numpy and random packages"
   ]
  },
  {
   "cell_type": "code",
   "execution_count": 1,
   "metadata": {
    "id": "2rit905Vv-4-"
   },
   "outputs": [],
   "source": [
    "import numpy as np\n",
    "import random"
   ]
  },
  {
   "cell_type": "markdown",
   "metadata": {
    "id": "oFznxXvATvMo"
   },
   "source": [
    "# 2. Define Dataset\n",
    "\n",
    "[2.1] We are going to use a simple dataset containing 3 features and 7 observations. The target variable is a binary outcome (either 0 or 1)"
   ]
  },
  {
   "cell_type": "code",
   "execution_count": 2,
   "metadata": {
    "id": "CPN-_r8FLCgS"
   },
   "outputs": [],
   "source": [
    "input_set = np.array([[0,1,0], [0,0,1], [1,0,0], [1,1,0], [1,1,1], [0,1,1], [0,1,0]])\n",
    "labels = np.array([[1], [0], [0], [1], [1], [0], [1]])"
   ]
  },
  {
   "cell_type": "markdown",
   "metadata": {
    "id": "SyYmv5E0T3XP"
   },
   "source": [
    "# 3. Set Initial Parameters"
   ]
  },
  {
   "cell_type": "markdown",
   "metadata": {
    "id": "W9kp1UWFUc9N"
   },
   "source": [
    "[3.1] Let's set the seed in order to have reproducible outcomes"
   ]
  },
  {
   "cell_type": "code",
   "execution_count": 3,
   "metadata": {
    "id": "RgolHUMVT8GA"
   },
   "outputs": [],
   "source": [
    "np.random.seed(42)"
   ]
  },
  {
   "cell_type": "markdown",
   "metadata": {
    "id": "5BFSPtVAUpf-"
   },
   "source": [
    "[3.2] **TODO**: Define a function that will create a Numpy array of a given shape with random values.\n",
    "\n",
    "\n",
    "For example, `initialise_array(3,1)` will return an array of dimensions (3,1)that can look like this (values may be different):\n",
    "\n",
    "\n",
    "`array([[0.37454012],\n",
    "       [0.95071431],\n",
    "       [0.73199394]])`"
   ]
  },
  {
   "cell_type": "code",
   "execution_count": 4,
   "metadata": {
    "colab": {
     "base_uri": "https://localhost:8080/"
    },
    "id": "p_dorRcqVYCT",
    "outputId": "6a8ef015-5ee3-45ab-874f-5242e02f0800"
   },
   "outputs": [
    {
     "name": "stdout",
     "output_type": "stream",
     "text": [
      "[[0.37454012]\n",
      " [0.95071431]\n",
      " [0.73199394]]\n"
     ]
    }
   ],
   "source": [
    "# TODO (Students need to fill this section)\n",
    "\n",
    "import numpy as np\n",
    "\n",
    "def initialise_array(shape):\n",
    "    \"\"\"\n",
    "    Create a Numpy array with random values of a specified shape.\n",
    "\n",
    "    Parameters:\n",
    "    - shape: tuple, the shape of the array to create. For example, (rows, cols).\n",
    "\n",
    "    Returns:\n",
    "    - Numpy array of the specified shape with random values.\n",
    "    \"\"\"\n",
    "    # Correctly indented block\n",
    "    return np.random.rand(*shape)\n",
    "\n",
    "# Example usage:\n",
    "array = initialise_array((3, 1))\n",
    "print(array)\n"
   ]
  },
  {
   "cell_type": "markdown",
   "metadata": {
    "id": "tRQW2pyTXHL7"
   },
   "source": [
    "[3.3] **TODO**: Create a Numpy array of shape (3,1) called `init_weights` filled with random values using `initialise_array()` and print them."
   ]
  },
  {
   "cell_type": "code",
   "execution_count": 5,
   "metadata": {
    "colab": {
     "base_uri": "https://localhost:8080/"
    },
    "id": "SKg1QtPdXlQW",
    "outputId": "3e8dcb07-f3a0-4aef-9d71-71e52dac1697"
   },
   "outputs": [
    {
     "name": "stdout",
     "output_type": "stream",
     "text": [
      "[[0.59865848]\n",
      " [0.15601864]\n",
      " [0.15599452]]\n"
     ]
    }
   ],
   "source": [
    "# TODO (Students need to fill this section)\n",
    "init_weights = initialise_array((3, 1))\n",
    "print(init_weights)"
   ]
  },
  {
   "cell_type": "markdown",
   "metadata": {
    "id": "yhl-s-nNXzWL"
   },
   "source": [
    "[3.4] **TODO**: Create a Numpy array of shape (1,) called `init_bias` filled with a random value using `initialise_array()` and print it."
   ]
  },
  {
   "cell_type": "code",
   "execution_count": 6,
   "metadata": {
    "colab": {
     "base_uri": "https://localhost:8080/"
    },
    "id": "7GWLGBDDX6Ge",
    "outputId": "7885ff6c-7f39-4eb2-fce3-81da5389e4a0"
   },
   "outputs": [
    {
     "name": "stdout",
     "output_type": "stream",
     "text": [
      "[0.05808361]\n"
     ]
    }
   ],
   "source": [
    "# TODO (Students need to fill this section)\n",
    "init_bias =initialise_array((1,))\n",
    "print(init_bias)"
   ]
  },
  {
   "cell_type": "markdown",
   "metadata": {
    "id": "-o3y_gmFX9U3"
   },
   "source": [
    "[3.5] Assert statements to check your created variables have the expected shapes"
   ]
  },
  {
   "cell_type": "code",
   "execution_count": 7,
   "metadata": {
    "id": "6ZKdef3yWpXh"
   },
   "outputs": [],
   "source": [
    "assert init_weights.shape == (3, 1)\n",
    "assert init_bias.shape == (1,)"
   ]
  },
  {
   "cell_type": "markdown",
   "metadata": {
    "id": "PcWYiiMWYRET"
   },
   "source": [
    "# 4. Define Linear Function\n",
    "In this section we are going to implement the linear function of a neuron:\n",
    "\n",
    "<img src='https://drive.google.com/uc?id=1vhfpGffqletFDzMIvWkCMR2jrHE5MBy5' width=\"500\" height=\"300\">"
   ]
  },
  {
   "cell_type": "markdown",
   "metadata": {
    "id": "6LX0Yn_OYw3V"
   },
   "source": [
    "[4.1] **TODO**: Define a function that will perform a dot product on the provided X and weights and add the bias to it"
   ]
  },
  {
   "cell_type": "code",
   "execution_count": 8,
   "metadata": {
    "id": "ZKx_OQKnZ2UH"
   },
   "outputs": [],
   "source": [
    "# TODO (Students need to fill this section)\n",
    "def linear(X, weights, bias):\n",
    "    \"\"\"\n",
    "    Implement the linear function of a neuron.\n",
    "\n",
    "    This function computes the dot product of input data X and weights, then adds the bias.\n",
    "\n",
    "    Parameters:\n",
    "    - X: Numpy array of shape (m, n), where m is the number of examples and n is the number of features.\n",
    "    - weights: Numpy array of shape (n, 1), where n is the number of features.\n",
    "    - bias: Scalar or Numpy array of shape (1,) representing the bias term.\n",
    "\n",
    "    Returns:\n",
    "    - A Numpy array of shape (m, 1) representing the linear transformation of the input data.\n",
    "    \"\"\"\n",
    "    dot_product = np.dot(X, weights)  # Make sure this line is properly indented\n",
    "    output = dot_product + bias       # This line as well\n",
    "    return output"
   ]
  },
  {
   "cell_type": "markdown",
   "metadata": {
    "id": "wIhdbPD8bayw"
   },
   "source": [
    "[4.2] Assert statements to check your linear function is behaving as expected"
   ]
  },
  {
   "cell_type": "code",
   "execution_count": 9,
   "metadata": {
    "id": "BF7DDft0aOPU"
   },
   "outputs": [],
   "source": [
    "test_weights = [[0.37454012],[0.95071431],[0.73199394]]\n",
    "test_bias = [0.59865848]\n",
    "assert linear(X=input_set[0], weights=test_weights, bias=test_bias)[0] == 1.54937279\n",
    "assert linear(X=input_set[1], weights=test_weights, bias=test_bias)[0] == 1.3306524199999998\n",
    "assert linear(X=input_set[2], weights=test_weights, bias=test_bias)[0] == 0.9731985999999999\n",
    "assert linear(X=input_set[3], weights=test_weights, bias=test_bias)[0] == 1.9239129099999999\n",
    "assert linear(X=input_set[4], weights=test_weights, bias=test_bias)[0] == 2.65590685\n",
    "assert linear(X=input_set[5], weights=test_weights, bias=test_bias)[0] == 2.28136673\n",
    "assert linear(X=input_set[6], weights=test_weights, bias=test_bias)[0] == 1.54937279"
   ]
  },
  {
   "cell_type": "markdown",
   "metadata": {
    "id": "aPU5Rq62blmE"
   },
   "source": [
    "# 5. Activation Function\n",
    "\n",
    "In the forward pass, an activation function is applied on the result of the linear function. We are going to implement the sigmoid function and its derivative:\n",
    "\n",
    "<img src='https://drive.google.com/uc?id=1LK7yjCp4KBICYNvTXzILQUzQbkm7G9xC' width=\"200\" height=\"100\">\n",
    "<img src='https://drive.google.com/uc?id=1f5jUyw0wgiVufNqveeJVZnQc6pOrDJXD' width=\"300\" height=\"100\">\n"
   ]
  },
  {
   "cell_type": "markdown",
   "metadata": {
    "id": "rYZHAb-RdNck"
   },
   "source": [
    "[5.1] **TODO**: Define a function that will implement the sigmoid function"
   ]
  },
  {
   "cell_type": "code",
   "execution_count": 10,
   "metadata": {
    "colab": {
     "base_uri": "https://localhost:8080/"
    },
    "id": "fmqOuw4afvrH",
    "outputId": "68e6e149-4993-49f2-aba9-0c054ca1dd1d"
   },
   "outputs": [
    {
     "data": {
      "text/plain": [
       "array([0.26894142, 0.5       , 0.73105858])"
      ]
     },
     "execution_count": 10,
     "metadata": {},
     "output_type": "execute_result"
    }
   ],
   "source": [
    "# TODO (Students need to fill this section)\n",
    "def sigmoid(x):\n",
    "    \"\"\"\n",
    "    Compute the sigmoid of x.\n",
    "\n",
    "    Parameters:\n",
    "    - x: A scalar or Numpy array of any size.\n",
    "\n",
    "    Returns:\n",
    "    - The sigmoid of x, applied element-wise if x is an array.\n",
    "    \"\"\"\n",
    "    return 1 / (1 + np.exp(-x))\n",
    "\n",
    "# Test the sigmoid function with a simple array\n",
    "test_array = np.array([-1, 0, 1])\n",
    "sigmoid(test_array)"
   ]
  },
  {
   "cell_type": "markdown",
   "metadata": {
    "id": "AsWa4glVf4zB"
   },
   "source": [
    "[5.2] Assert statements to check your sigmoid function is behaving as expected"
   ]
  },
  {
   "cell_type": "code",
   "execution_count": 11,
   "metadata": {
    "colab": {
     "base_uri": "https://localhost:8080/"
    },
    "id": "f_36rZRrLfP9",
    "outputId": "5e140d90-2b89-483d-c635-5fb6c13711cf"
   },
   "outputs": [
    {
     "name": "stderr",
     "output_type": "stream",
     "text": [
      "C:\\Users\\nipan\\AppData\\Local\\Temp\\ipykernel_14048\\2326164803.py:12: RuntimeWarning: overflow encountered in exp\n",
      "  return 1 / (1 + np.exp(-x))\n"
     ]
    }
   ],
   "source": [
    "assert sigmoid(0) == 0.5\n",
    "assert sigmoid(1) == 0.7310585786300049\n",
    "assert sigmoid(-1) == 0.2689414213699951\n",
    "assert sigmoid(9999999999999) == 1.0\n",
    "assert sigmoid(-9999999999999) == 0.0"
   ]
  },
  {
   "cell_type": "markdown",
   "metadata": {
    "id": "MEnLWtDCgWLF"
   },
   "source": [
    "[5.3] **TODO**: Define a function that will implement the derivative of the sigmoid function"
   ]
  },
  {
   "cell_type": "code",
   "execution_count": 12,
   "metadata": {
    "colab": {
     "base_uri": "https://localhost:8080/"
    },
    "id": "OG3SorjugZyS",
    "outputId": "1bf2e171-e795-49df-e657-89211b63a3ce"
   },
   "outputs": [
    {
     "name": "stdout",
     "output_type": "stream",
     "text": [
      "[0.19661193 0.25       0.19661193]\n"
     ]
    }
   ],
   "source": [
    "# TODO (Students need to fill this section)\n",
    "def sigmoid_derivative(x):\n",
    "    \"\"\"\n",
    "    Compute the derivative of the sigmoid function.\n",
    "\n",
    "    Parameters:\n",
    "    - x: A scalar or Numpy array of any size.\n",
    "\n",
    "    Returns:\n",
    "    - The derivative of the sigmoid function, applied element-wise if x is an array.\n",
    "    \"\"\"\n",
    "    # First, compute the sigmoid of x\n",
    "    sigmoid_x = 1 / (1 + np.exp(-x))\n",
    "    # Then, calculate and return the derivative of the sigmoid function\n",
    "    return sigmoid_x * (1 - sigmoid_x)\n",
    "\n",
    "# Example usage\n",
    "x = np.array([-1, 0, 1])\n",
    "print(sigmoid_derivative(x))"
   ]
  },
  {
   "cell_type": "markdown",
   "metadata": {
    "id": "vwVtASkEgeok"
   },
   "source": [
    "[5.2] Assert statements to check your sigmoid_derivative function is behaving as expected"
   ]
  },
  {
   "cell_type": "code",
   "execution_count": 13,
   "metadata": {
    "colab": {
     "base_uri": "https://localhost:8080/"
    },
    "id": "oVXCcUTZLUpj",
    "outputId": "0d47389e-d298-4bdf-f50c-6e0181c16bf3"
   },
   "outputs": [
    {
     "name": "stderr",
     "output_type": "stream",
     "text": [
      "C:\\Users\\nipan\\AppData\\Local\\Temp\\ipykernel_14048\\3695536295.py:13: RuntimeWarning: overflow encountered in exp\n",
      "  sigmoid_x = 1 / (1 + np.exp(-x))\n"
     ]
    }
   ],
   "source": [
    "assert sigmoid_derivative(0) == 0.25\n",
    "assert sigmoid_derivative(1) == 0.19661193324148185\n",
    "assert sigmoid_derivative(-1) == 0.19661193324148185\n",
    "assert sigmoid_derivative(9999999999999) == 0.0\n",
    "assert sigmoid_derivative(-9999999999999) == 0.0"
   ]
  },
  {
   "cell_type": "markdown",
   "metadata": {
    "id": "LMacN5l4gkim"
   },
   "source": [
    "# 6. Forward Pass\n",
    "\n",
    "Now we have everything we need to implement the forward propagation"
   ]
  },
  {
   "cell_type": "markdown",
   "metadata": {
    "id": "ticTCz4Yg1Ze"
   },
   "source": [
    "[6.1] **TODO**: Define a function that will implement the forward pass (apply linear function on the input followed by the sigmoid activation function)"
   ]
  },
  {
   "cell_type": "code",
   "execution_count": 14,
   "metadata": {
    "id": "FuyjHgpahKD9"
   },
   "outputs": [],
   "source": [
    "# TODO (Students need to fill this section)\n",
    "def forward(X, weights, bias):\n",
    "    \"\"\"\n",
    "    Perform the forward pass by applying a linear function and then the sigmoid activation.\n",
    "\n",
    "    Parameters:\n",
    "    - X: Numpy array of input data.\n",
    "    - weights: Numpy array of weights.\n",
    "    - bias: Scalar or Numpy array of bias.\n",
    "\n",
    "    Returns:\n",
    "    - The output of the neural network at this layer, after applying the sigmoid activation.\n",
    "    \"\"\"\n",
    "    # Apply linear function\n",
    "    linear_result = np.dot(X, weights) + bias\n",
    "\n",
    "    # Apply sigmoid activation\n",
    "    sigmoid_result = 1 / (1 + np.exp(-linear_result))\n",
    "\n",
    "    return sigmoid_result"
   ]
  },
  {
   "cell_type": "markdown",
   "metadata": {
    "id": "l4ZI4yoDhPrX"
   },
   "source": [
    "[6.2] Assert statements to check your forward function is behaving as expected"
   ]
  },
  {
   "cell_type": "code",
   "execution_count": 15,
   "metadata": {
    "id": "ebJmLZQtNJMQ"
   },
   "outputs": [],
   "source": [
    "assert forward(X=input_set[0], weights=test_weights, bias=test_bias)[0] == 0.8248231247647452\n",
    "assert forward(X=input_set[1], weights=test_weights, bias=test_bias)[0] == 0.7909485322272701\n",
    "assert forward(X=input_set[2], weights=test_weights, bias=test_bias)[0] == 0.7257565873271445\n",
    "assert forward(X=input_set[3], weights=test_weights, bias=test_bias)[0] == 0.8725741389540382\n",
    "assert forward(X=input_set[4], weights=test_weights, bias=test_bias)[0] == 0.9343741240208852\n",
    "assert forward(X=input_set[5], weights=test_weights, bias=test_bias)[0] == 0.9073220375080315\n",
    "assert forward(X=input_set[6], weights=test_weights, bias=test_bias)[0] == 0.8248231247647452"
   ]
  },
  {
   "cell_type": "markdown",
   "metadata": {
    "id": "hLlcne6nhTiF"
   },
   "source": [
    "# 7. Calculate Error\n",
    "\n",
    "After the forward pass, the Neural Networks will calculate the error between its predictions (output of forward pass) and the actual targets."
   ]
  },
  {
   "cell_type": "markdown",
   "metadata": {
    "id": "ucesRV6mgi5Q"
   },
   "source": [
    "[7.1] **TODO**: Define a function that will implement the error calculation (difference between predictions and actual targets)"
   ]
  },
  {
   "cell_type": "code",
   "execution_count": 16,
   "metadata": {
    "id": "08oSjRvmh3_S"
   },
   "outputs": [],
   "source": [
    "# TODO (Students need to fill this section)\n",
    "import numpy as np\n",
    "\n",
    "def calculate_error(actual, pred):\n",
    "    \"\"\"\n",
    "    Calculate the total error between actual targets and predictions.\n",
    "\n",
    "    Parameters:\n",
    "    actual (array-like): Array of actual target values\n",
    "    pred (array-like): Array of predicted values\n",
    "\n",
    "    Returns:\n",
    "    float: Total error (sum of differences between predictions and actual targets)\n",
    "    \"\"\"\n",
    "    return np.sum(pred - actual)\n",
    "\n"
   ]
  },
  {
   "cell_type": "markdown",
   "metadata": {
    "id": "X5TWDZdIh_-D"
   },
   "source": [
    "[7.2] Assert statements to check your calculate_error function is behaving as expected"
   ]
  },
  {
   "cell_type": "code",
   "execution_count": 17,
   "metadata": {
    "id": "GAWsb4KpOgL4"
   },
   "outputs": [],
   "source": [
    "test_actual = np.array([0,0,0,1,1,1])\n",
    "assert calculate_error(actual=test_actual, pred=[0,0,0,1,1,1]).sum() == 0\n",
    "assert calculate_error(actual=test_actual, pred=[0,0,0,1,1,0]).sum() == -1\n",
    "assert calculate_error(actual=test_actual, pred=[0,0,0,0,0,0]).sum() == -3"
   ]
  },
  {
   "cell_type": "markdown",
   "metadata": {
    "id": "JUulr3gZiUXx"
   },
   "source": [
    "# 8. Calculate Gradients\n",
    "Once the error has been calculated, a Neural Networks will use this information to update its weights accordingly."
   ]
  },
  {
   "cell_type": "markdown",
   "metadata": {
    "id": "zGcDakS9imth"
   },
   "source": [
    "[8.1] Let's creata function that calculate the gradients using the sigmoid derivative function and applying the chain rule."
   ]
  },
  {
   "cell_type": "code",
   "execution_count": 18,
   "metadata": {
    "id": "pvLIqdu9QQBg"
   },
   "outputs": [],
   "source": [
    "def calculate_gradients(pred, error, input):\n",
    "  dpred = sigmoid_derivative(pred)\n",
    "  z_del = error * dpred\n",
    "  gradients = np.dot(input.T, z_del)\n",
    "  return gradients, z_del"
   ]
  },
  {
   "cell_type": "markdown",
   "metadata": {
    "id": "VS4K4qlSi0kp"
   },
   "source": [
    "# 9. Training\n",
    "\n",
    "Now that we built all the components of a Neural Networks, we can finally train it on our dataset."
   ]
  },
  {
   "cell_type": "markdown",
   "metadata": {
    "id": "BcOC1D6LjKEX"
   },
   "source": [
    "[9.1] Create 2 variables called `weights` and `bias` that will respectively take the value of `init_weights` and `init_bias`"
   ]
  },
  {
   "cell_type": "code",
   "execution_count": 19,
   "metadata": {
    "id": "ohEe-udeOZR1"
   },
   "outputs": [],
   "source": [
    "weights = init_weights\n",
    "bias = init_bias"
   ]
  },
  {
   "cell_type": "markdown",
   "metadata": {
    "id": "L8_DzvuqjXOe"
   },
   "source": [
    "[9.2] Create a variable called `lr` that will be used as the learning rate for updating the weights"
   ]
  },
  {
   "cell_type": "code",
   "execution_count": 20,
   "metadata": {
    "id": "X2DFhqF4jJdz"
   },
   "outputs": [],
   "source": [
    "lr = 0.5"
   ]
  },
  {
   "cell_type": "markdown",
   "metadata": {
    "id": "QYt-FXr2jhNI"
   },
   "source": [
    "[9.3] Create a variable called `epochs` with the value 10000. This will the number of times the Neural Networks will process the entire dataset and update its weights"
   ]
  },
  {
   "cell_type": "code",
   "execution_count": 21,
   "metadata": {
    "id": "VS8BWdy5jlra"
   },
   "outputs": [],
   "source": [
    "epochs = 10000"
   ]
  },
  {
   "cell_type": "markdown",
   "metadata": {
    "id": "zrA8T0r0j0SO"
   },
   "source": [
    "[9.4] Create a for loop that will perform the training of our Neural Networks"
   ]
  },
  {
   "cell_type": "code",
   "execution_count": 22,
   "metadata": {
    "id": "VvACgpjDMPpI"
   },
   "outputs": [],
   "source": [
    "for epoch in range(epochs):\n",
    "    inputs = input_set\n",
    "\n",
    "    # Forward Propagation\n",
    "    z = forward(X=inputs, weights=weights, bias=bias)\n",
    "\n",
    "    # Error\n",
    "    error = calculate_error(actual=labels, pred=z)\n",
    "\n",
    "    # Back Propagation\n",
    "    gradients, z_del = calculate_gradients(pred=z, error=error, input=input_set)\n",
    "\n",
    "    # Update parameters\n",
    "    weights = weights - lr * gradients\n",
    "    for num in z_del:\n",
    "        bias = bias - lr * num\n"
   ]
  },
  {
   "cell_type": "markdown",
   "metadata": {
    "id": "K9jYXShpkEp7"
   },
   "source": [
    "[9.5] **TODO** Print the final values of `weights` and `bias`"
   ]
  },
  {
   "cell_type": "code",
   "execution_count": 23,
   "metadata": {
    "colab": {
     "base_uri": "https://localhost:8080/"
    },
    "id": "POA_DyrRkPup",
    "outputId": "a8e1b437-52a2-4395-a2f1-750f68330106"
   },
   "outputs": [
    {
     "name": "stdout",
     "output_type": "stream",
     "text": [
      "Final Weights: [[ 0.99021769]\n",
      " [ 2.19115559]\n",
      " [-0.27866997]]\n",
      "Final Bias: [-1.57419278]\n"
     ]
    }
   ],
   "source": [
    "# TODO (Students need to fill this section)\n",
    "print(\"Final Weights:\", weights)\n",
    "print(\"Final Bias:\", bias)\n"
   ]
  },
  {
   "cell_type": "markdown",
   "metadata": {
    "id": "XAtGwsp6iNuw"
   },
   "source": [
    "# 10. Compare before and after training\n",
    "\n",
    "Let's compare the predictions of our Neural Networks before (using `init_weights` and `init_bias`) and after the training (using `weights` and `bias`)"
   ]
  },
  {
   "cell_type": "markdown",
   "metadata": {
    "id": "lU5T4iJTkv8j"
   },
   "source": [
    "[10.1] Create a function to display the values of a single observation from the dataset (using its index), the error and the actual target and prediction"
   ]
  },
  {
   "cell_type": "code",
   "execution_count": 24,
   "metadata": {
    "id": "j4yTdgGcQms5"
   },
   "outputs": [],
   "source": [
    "def compare_pred(weights, bias, index, X, y):\n",
    "    pred = forward(X=X[index], weights=weights, bias=bias)\n",
    "    actual = y[index]\n",
    "    error = calculate_error(actual, pred)\n",
    "    print(f\"{X[index]} - Error {error} - Actual: {actual} - Pred: {pred}\")"
   ]
  },
  {
   "cell_type": "markdown",
   "metadata": {
    "id": "kEK9e_0ulM-k"
   },
   "source": [
    "[10.2] Compare the results on the first observation (index 0)"
   ]
  },
  {
   "cell_type": "code",
   "execution_count": 25,
   "metadata": {
    "colab": {
     "base_uri": "https://localhost:8080/"
    },
    "id": "Q3FA6y1QQc-l",
    "outputId": "a5af6c9b-c963-49e7-ecb3-9bbe6816bfdd"
   },
   "outputs": [
    {
     "name": "stdout",
     "output_type": "stream",
     "text": [
      "[0 1 0] - Error -0.44667797055005865 - Actual: [1] - Pred: [0.55332203]\n",
      "[0 1 0] - Error -0.3504725285117549 - Actual: [1] - Pred: [0.64952747]\n"
     ]
    }
   ],
   "source": [
    "compare_pred(weights=init_weights, bias=init_bias, index=0, X=input_set, y=labels)\n",
    "compare_pred(weights=weights, bias=bias, index=0, X=input_set, y=labels)"
   ]
  },
  {
   "cell_type": "markdown",
   "metadata": {
    "id": "emEbcf13lyjE"
   },
   "source": [
    "[10.3] Compare the results on the second observation (index 1)"
   ]
  },
  {
   "cell_type": "code",
   "execution_count": 26,
   "metadata": {
    "colab": {
     "base_uri": "https://localhost:8080/"
    },
    "id": "jQMJvQ_FlywM",
    "outputId": "6400ff61-81ff-406c-9d1f-33f584046ddd"
   },
   "outputs": [
    {
     "name": "stdout",
     "output_type": "stream",
     "text": [
      "[0 0 1] - Error 0.5533160679949385 - Actual: [0] - Pred: [0.55331607]\n",
      "[0 0 1] - Error 0.13553712744025928 - Actual: [0] - Pred: [0.13553713]\n"
     ]
    }
   ],
   "source": [
    "compare_pred(weights=init_weights, bias=init_bias, index=1, X=input_set, y=labels)\n",
    "compare_pred(weights=weights, bias=bias, index=1, X=input_set, y=labels)"
   ]
  },
  {
   "cell_type": "markdown",
   "metadata": {
    "id": "BUtP4AmWld0f"
   },
   "source": [
    "[10.4] Compare the results on the third observation (index 2)"
   ]
  },
  {
   "cell_type": "code",
   "execution_count": 27,
   "metadata": {
    "colab": {
     "base_uri": "https://localhost:8080/"
    },
    "id": "imU4LVeqQTXg",
    "outputId": "ab978be6-0b0f-47ef-8d74-da16e1b2fa15"
   },
   "outputs": [
    {
     "name": "stdout",
     "output_type": "stream",
     "text": [
      "[1 0 0] - Error 0.6585281663218256 - Actual: [0] - Pred: [0.65852817]\n",
      "[1 0 0] - Error 0.3580184391313131 - Actual: [0] - Pred: [0.35801844]\n"
     ]
    }
   ],
   "source": [
    "compare_pred(weights=init_weights, bias=init_bias, index=2, X=input_set, y=labels)\n",
    "compare_pred(weights=weights, bias=bias, index=2, X=input_set, y=labels)"
   ]
  },
  {
   "cell_type": "markdown",
   "metadata": {
    "id": "7n7_s2EAl7M2"
   },
   "source": [
    "[10.5] Compare the results on the forth observation (index 3)"
   ]
  },
  {
   "cell_type": "code",
   "execution_count": 28,
   "metadata": {
    "colab": {
     "base_uri": "https://localhost:8080/"
    },
    "id": "GFgNdYm0l7TD",
    "outputId": "2c6a3453-ce63-49e7-e92b-e1df058cc09b"
   },
   "outputs": [
    {
     "name": "stdout",
     "output_type": "stream",
     "text": [
      "[1 1 0] - Error -0.30730251163799815 - Actual: [1] - Pred: [0.69269749]\n",
      "[1 1 0] - Error -0.16698043290039477 - Actual: [1] - Pred: [0.83301957]\n"
     ]
    }
   ],
   "source": [
    "compare_pred(weights=init_weights, bias=init_bias, index=3, X=input_set, y=labels)\n",
    "compare_pred(weights=weights, bias=bias, index=3, X=input_set, y=labels)"
   ]
  },
  {
   "cell_type": "markdown",
   "metadata": {
    "id": "wnr_LygFmAvK"
   },
   "source": [
    "[10.6] Compare the results on the fifth observation (index 4)"
   ]
  },
  {
   "cell_type": "code",
   "execution_count": 29,
   "metadata": {
    "colab": {
     "base_uri": "https://localhost:8080/"
    },
    "id": "euONWlvWmA1o",
    "outputId": "6c48c68c-1646-4d0b-91ef-f156e011e2b4"
   },
   "outputs": [
    {
     "name": "stdout",
     "output_type": "stream",
     "text": [
      "[1 1 1] - Error -0.27512867537455343 - Actual: [1] - Pred: [0.72487132]\n",
      "[1 1 1] - Error -0.20940584902461346 - Actual: [1] - Pred: [0.79059415]\n"
     ]
    }
   ],
   "source": [
    "compare_pred(weights=init_weights, bias=init_bias, index=4, X=input_set, y=labels)\n",
    "compare_pred(weights=weights, bias=bias, index=4, X=input_set, y=labels)"
   ]
  },
  {
   "cell_type": "markdown",
   "metadata": {
    "id": "exRMYCRKlhI3"
   },
   "source": [
    "[10.7] Compare the results on the sixth observation (index 5)"
   ]
  },
  {
   "cell_type": "code",
   "execution_count": 30,
   "metadata": {
    "colab": {
     "base_uri": "https://localhost:8080/"
    },
    "id": "e77HEuVWQN_9",
    "outputId": "1b8ff8b7-eb6e-404f-f72f-41be651b8348"
   },
   "outputs": [
    {
     "name": "stdout",
     "output_type": "stream",
     "text": [
      "[0 1 1] - Error 0.5914823619815118 - Actual: [0] - Pred: [0.59148236]\n",
      "[0 1 1] - Error 0.5837757723770773 - Actual: [0] - Pred: [0.58377577]\n"
     ]
    }
   ],
   "source": [
    "compare_pred(weights=init_weights, bias=init_bias, index=5, X=input_set, y=labels)\n",
    "compare_pred(weights=weights, bias=bias, index=5, X=input_set, y=labels)"
   ]
  },
  {
   "cell_type": "markdown",
   "metadata": {
    "id": "pumbj0jHmLur"
   },
   "source": [
    "[10.8] Compare the results on the sixth observation (index 5)"
   ]
  },
  {
   "cell_type": "code",
   "execution_count": 31,
   "metadata": {
    "colab": {
     "base_uri": "https://localhost:8080/"
    },
    "id": "0glVvMi5mL1s",
    "outputId": "c2795dd1-a217-46b3-80a5-8056b9ad48e5"
   },
   "outputs": [
    {
     "name": "stdout",
     "output_type": "stream",
     "text": [
      "[0 1 0] - Error -0.44667797055005865 - Actual: [1] - Pred: [0.55332203]\n",
      "[0 1 0] - Error -0.3504725285117549 - Actual: [1] - Pred: [0.64952747]\n"
     ]
    }
   ],
   "source": [
    "compare_pred(weights=init_weights, bias=init_bias, index=6, X=input_set, y=labels)\n",
    "compare_pred(weights=weights, bias=bias, index=6, X=input_set, y=labels)"
   ]
  },
  {
   "cell_type": "code",
   "execution_count": null,
   "metadata": {
    "id": "_tm7jWyIOkZt"
   },
   "outputs": [],
   "source": []
  },
  {
   "cell_type": "markdown",
   "metadata": {
    "id": "TIKnRhySlqga"
   },
   "source": [
    "We can see after 10000 epochs, our Neural Networks is performing extremely well on our dataset. It has found pretty good values for the weights and bias to make accurate prediction."
   ]
  },
  {
   "cell_type": "markdown",
   "metadata": {
    "id": "C7SGwABjmqN7"
   },
   "source": [
    "Please submit this notebook into Canvas. Name it following this rule: *assignment1-partA-\\<student_id\\>.ipynb*"
   ]
  }
 ],
 "metadata": {
  "colab": {
   "provenance": []
  },
  "kernelspec": {
   "display_name": "Python 3 (ipykernel)",
   "language": "python",
   "name": "python3"
  },
  "language_info": {
   "codemirror_mode": {
    "name": "ipython",
    "version": 3
   },
   "file_extension": ".py",
   "mimetype": "text/x-python",
   "name": "python",
   "nbconvert_exporter": "python",
   "pygments_lexer": "ipython3",
   "version": "3.11.5"
  }
 },
 "nbformat": 4,
 "nbformat_minor": 1
}
